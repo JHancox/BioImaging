{
 "cells": [
  {
   "cell_type": "markdown",
   "metadata": {},
   "source": [
    "# Using MONAI to unlock clinically valuable insights from Digital Pathology"
   ]
  },
  {
   "cell_type": "markdown",
   "metadata": {},
   "source": [
    "## Part 3 - Analysis of Whole Slide Image Nuclei \n",
    "\n",
    "<img src=\"images/rapids.png\" alt=\"RAPIDS\" style=\"width: 200px;\"/>\n",
    "\n",
    "Now that we have learned how to extract nucleus types and locations from Whole Slide images, we can load up the inference results from the whole image and take a look at a few of the methods that are suitable for this type of data. Rather than using a standard Pandas dataframe, we are going to use the RAPIDS equivalent, cuDF (CUDA dataframe). This loads the data into GPU memory rather than using the host system's RAM. As you will see, this opens up a new realm of possibilities because of the huge speed boost this can provide.\n",
    "\n",
    "As usual, we start by importing the libraries that we'll need. As you will notice, there are a few new names here, such as cuDF, cuGraph and cuML. These are the core of the RAPIDS tools offering GPU accelerated Dataframe functionality, GPU accelerated graph analytics and GPU accelerated Machine Learning routines\n",
    "\n",
    "You will find documentation on all of these libraries and features here https://docs.rapids.ai/api"
   ]
  },
  {
   "cell_type": "code",
   "execution_count": null,
   "metadata": {},
   "outputs": [],
   "source": [
    "from cuml import PCA\n",
    "from sklearn.manifold import TSNE\n",
    "import matplotlib.pyplot as plt\n",
    "from matplotlib.colors import ListedColormap\n",
    "from mpl_toolkits.mplot3d import Axes3D\n",
    "from cuml.neighbors import NearestNeighbors\n",
    "import cuxfilter\n",
    "from cuxfilter import DataFrame, layouts\n",
    "import seaborn as sns\n",
    "import pandas as pd\n",
    "import cudf\n",
    "from cudf import DataFrame\n",
    "import cugraph\n",
    "import cuml\n",
    "import numpy as np"
   ]
  },
  {
   "cell_type": "markdown",
   "metadata": {},
   "source": [
    "We start by loading a pickled centroids list, the same as the one we just plotted in the previous exercise, but for the whole slide. It gets loaded into a pandas dataframe and then you can see that we immediately create a cuDF version of the dataframe, which puts it on to the GPU. The cdf.head command loads the first few rows and you can see that we have the nucleus types and row and column (coordinates)."
   ]
  },
  {
   "cell_type": "code",
   "execution_count": null,
   "metadata": {},
   "outputs": [],
   "source": [
    "# import the data we saved in our other notebook\n",
    "df = pd.read_pickle('data/centroids.pkl')\n",
    "\n",
    "#create a cuda dataframe (GPU) from the pandas dataframe (CPU)\n",
    "cdf = cudf.from_pandas(df)\n",
    "\n",
    "cdf.head"
   ]
  },
  {
   "cell_type": "markdown",
   "metadata": {},
   "source": [
    "We can also display some summary statistics for the dataframe columns"
   ]
  },
  {
   "cell_type": "code",
   "execution_count": null,
   "metadata": {},
   "outputs": [],
   "source": [
    "# get some stats on the data\n",
    "cdf.describe()"
   ]
  },
  {
   "cell_type": "markdown",
   "metadata": {},
   "source": [
    "To get a view of the data we can use MatplotLib to show us a scatter-plot using the x and y coordinates of the nuclei, using the type to set the color of each point in the output. As you can see, this provides a clear indication of the distribution of the various types of nuclei across the tissue."
   ]
  },
  {
   "cell_type": "code",
   "execution_count": null,
   "metadata": {},
   "outputs": [],
   "source": [
    "# create a matplotlib colormap to match the previous notebook\n",
    "cmap = ListedColormap([\"blue\", \"gold\", \"lawngreen\", \"red\"])\n",
    "\n",
    "fig, ax = plt.subplots(1, figsize = (8, 6))\n",
    "plt.scatter(df['row'], df['col'], s = 2, c = df['type'], cmap = cmap)\n",
    "\n",
    "plt.title('Nuclei coloured by type')\n",
    "plt.show()"
   ]
  },
  {
   "cell_type": "markdown",
   "metadata": {},
   "source": [
    "This is certainly an interesting visualisation in its own right, but it doesn't tell us much about the relationships between the cells at a more granular level."
   ]
  },
  {
   "cell_type": "markdown",
   "metadata": {},
   "source": [
    "So, what we are going to do now is to create a graph of all the nuclei that we detected and classified in the last notebook. \n",
    "In order to construct the graph we are going to use the Nearest Neighbor algorithm to find the 5 nearest neighbors to each nucleus.\n",
    "\n",
    "To do this we will need to import some classes from cuNN (A CUDA library for nearest neighbor computation) that is part of the RAPIDS family. "
   ]
  },
  {
   "cell_type": "code",
   "execution_count": null,
   "metadata": {},
   "outputs": [],
   "source": [
    "from cuml.neighbors import NearestNeighbors\n",
    "\n",
    "knn_cuml = NearestNeighbors()\n",
    "knn_cuml.fit(cdf)\n",
    "\n",
    "%time D_cuml, I_cuml = knn_cuml.kneighbors(cdf, 5)\n",
    "I_cuml, D_cuml"
   ]
  },
  {
   "cell_type": "markdown",
   "metadata": {},
   "source": [
    "What this has produced is a list of the 5 nearest neighbours for each nucleus - using the row and col values, which relate to the position of the centroid of each nucleus in pixel space. The KNN (k-nearest neighbours) algorithm is using a Euclidean distance calculation (other algorithms can be used) which tells us how close each node is to every other node. Because we chose 5 as the number of nearest neighbours, we have a row value which represents the index of each node and then five columns containing the indexes of the 5 nearest nodes, with the nearest in column 0 and the furthest in column 4. You will also notice that the index in the nearest column, 0, always matches the row index. That's because the algorithm does not exclude each node from being its own nearest neighbour. We can ignore that column.\n",
    "\n",
    "We are looking at the indexes in the I_cuml dataframe and the physical distances, in pixels, in the D_cuml dataframe."
   ]
  },
  {
   "cell_type": "markdown",
   "metadata": {},
   "source": [
    "If you want to compare this with the sklearn CPU implementation, be aware that it can take > 30 minutes to run! It is not necessary to execute it - the code is there as a reference. "
   ]
  },
  {
   "cell_type": "code",
   "execution_count": null,
   "metadata": {},
   "outputs": [],
   "source": [
    "# Only run this and the following cell to compare with CPU version\n",
    "from sklearn.neighbors import NearestNeighbors as skNN\n",
    "\n",
    "df_1=df[cdf]\n",
    "knn_sk = skNN(algorithm='brute',n_jobs=1)\n",
    "knn_sk.fit(df_1)\n",
    "\n",
    "# Only uncomment the lines below if you have a spare 30 mins to wait for it to complete!\n",
    "#%time D_sk, I_sk = knn_sk.kneighbors(df_1, 5)\n",
    "#I_sk"
   ]
  },
  {
   "cell_type": "markdown",
   "metadata": {},
   "source": [
    "In order to convert the output of the KNN operation into a graph, we need to prepare the data. The data needs to be presented to the RAPIDS graph library, cugraph, as a set of edges with the source and destination node and an (optional) weight parameter.\n",
    "\n",
    "Firstly, we combine the nearest neighbor indexes and distances into one dataframe and give them unique column names. We do this so that we can use the distance to set the weight of the connection between the nodes"
   ]
  },
  {
   "cell_type": "code",
   "execution_count": null,
   "metadata": {},
   "outputs": [],
   "source": [
    "# give the columns names because they have to be unique in the merged dataframe\n",
    "# Indexes of neighbours\n",
    "I_cuml.columns=['ix1','n1','n2','n3','n4'] \n",
    "# Distance to neighbours\n",
    "D_cuml.columns=['ix2','d1','d2','d3','d4'] \n",
    "# Concatenate the columsn into a single dataframe\n",
    "all_cols = cudf.concat([I_cuml, D_cuml],axis=1)\n",
    "\n",
    "# remove the index and distance from the self-referenced nearest neighbour\n",
    "all_cols = all_cols[['n1','n2','n3','n4','d1','d2','d3','d4']]\n",
    "\n",
    "all_cols "
   ]
  },
  {
   "cell_type": "markdown",
   "metadata": {},
   "source": [
    "The next step is to manipulate this data so that it is in the desired format. There should be 3 columns, named 'source', 'target' and 'distance'.\n",
    "\n",
    "To do this, you will need to extract 4 sets of columns - one for each neighbor - and then concatenate the rows into a new dataframe.\n",
    "\n",
    "Remember that each row index represents a node, the n1-n4 columns contain the row index of a destination node and the d1-d4 columns contain the distance between these nodes. "
   ]
  },
  {
   "cell_type": "code",
   "execution_count": null,
   "metadata": {},
   "outputs": [],
   "source": [
    "# Reformat the data to match the way edges are defined in cuGraph\n",
    "all_cols['index1'] = all_cols.index\n",
    "\n",
    "c1 = all_cols[['index1','n1','d1']]\n",
    "c1.columns=['source','target','distance']\n",
    "c2 = all_cols[['index1','n2','d2']]\n",
    "c2.columns=['source','target','distance']\n",
    "c3 = all_cols[['index1','n3','d3']]\n",
    "c3.columns=['source','target','distance']\n",
    "c4 = all_cols[['index1','n4','d4']]\n",
    "c4.columns=['source','target','distance']\n",
    "                 \n",
    "edges = [c1,c2,c3,c4]\n",
    "\n",
    "edge_df = cudf.concat(edges)\n",
    "\n",
    "# remove the old dataframe from memory\n",
    "del(all_cols)\n",
    "\n",
    "edge_df = edge_df.reset_index()\n",
    "edge_df = edge_df[['source','target','distance']]\n",
    "edge_df"
   ]
  },
  {
   "cell_type": "markdown",
   "metadata": {},
   "source": [
    "Next, we need to set a maximum distance between connected nodes, so that we exclude any connections beyond a certain threshold. This may reveal groups of cells that are locally connected but separate from other 'cliques'. We will use a distance of 40 pixels to start off with but you can experiment with this setting.\n",
    "Note that the distance calculation actually uses the distance squared (to save many expensive sqrt operations)."
   ]
  },
  {
   "cell_type": "code",
   "execution_count": null,
   "metadata": {},
   "outputs": [],
   "source": [
    "edge_df = edge_df.loc[edge_df[\"distance\"] < 40]\n",
    "edge_df"
   ]
  },
  {
   "cell_type": "markdown",
   "metadata": {},
   "source": [
    "This dataframe is now ready to be used to generate the graph. For this we use the cugraph library"
   ]
  },
  {
   "cell_type": "code",
   "execution_count": null,
   "metadata": {},
   "outputs": [],
   "source": [
    "# now we can actually create a graph!!\n",
    "G = cugraph.Graph()\n",
    "\n",
    "%time G.from_cudf_edgelist(edge_df,source='source', destination='target', edge_attr='distance', renumber=True)"
   ]
  },
  {
   "cell_type": "markdown",
   "metadata": {},
   "source": [
    "Once we have the graph we can do standard graph analytical operations. Triangle Count is the number of cycles of length three. A k-core of a graph is a maximal subgraph that contains nodes of degree k or more. "
   ]
  },
  {
   "cell_type": "code",
   "execution_count": null,
   "metadata": {},
   "outputs": [],
   "source": [
    "#now we can compute some graph metrics\n",
    "count = cugraph.triangle_count(G)\n",
    "print(\"No of triangles = \" + str(count))\n",
    "\n",
    "coreno = cugraph.core_number(G)\n",
    "print(\"Core Number = \" + str(coreno))"
   ]
  },
  {
   "cell_type": "markdown",
   "metadata": {},
   "source": [
    "**Visualising the graph**\n",
    "\n",
    "One powerful feature enabled by the RAPIDS API is the visualisation of large networks. To show this in action we are going to create a chart that displays all the nuclei centroids along with the edges between their nearest neighbors.\n",
    "\n",
    "To do this we need two dataframes: One containing the nodes and their coordinates and the other with the edges and their source and target nodes"
   ]
  },
  {
   "cell_type": "code",
   "execution_count": null,
   "metadata": {},
   "outputs": [],
   "source": [
    "# we only need the index of the source and target nodes\n",
    "\n",
    "# The indexes of the source and target nodes that form an edge\n",
    "edge_df = edge_df[['source','target']]\n",
    "\n",
    "# The x and y coordinates of each node (nucleus)\n",
    "nodes_ = cdf[['row','col']]\n",
    "# Vertex refers to the index of an item in the \n",
    "nodes_['vertex']=nodes_.index\n",
    "nodes_.columns=['x','y','vertex']"
   ]
  },
  {
   "cell_type": "markdown",
   "metadata": {},
   "source": [
    "Finally we use cuXFilter to render the whole graph!"
   ]
  },
  {
   "cell_type": "code",
   "execution_count": null,
   "metadata": {},
   "outputs": [],
   "source": [
    "cux_df = cuxfilter.DataFrame.load_graph((nodes_, edge_df))\n",
    "\n",
    "chart0 = cuxfilter.charts.graph(edge_color_palette=['gray', 'black'],\n",
    "                                            timeout=200, \n",
    "                                            node_aggregate_fn='mean', \n",
    "                                            node_color_palette=['blue'],\n",
    "                                            edge_render_type='direct',\n",
    "                                            edge_transparency=0.5\n",
    "                                          )\n",
    "d = cux_df.dashboard([chart0], layout=cuxfilter.layouts.double_feature)\n",
    "\n",
    "# draw the graph\n",
    "chart0.view()"
   ]
  },
  {
   "cell_type": "markdown",
   "metadata": {},
   "source": [
    "You should be able to use the mouse-wheel to zoom in and out of the graph plot. If you zoom in far enough you will see the individual vertices (coloured) and edges (grey lines)"
   ]
  },
  {
   "cell_type": "markdown",
   "metadata": {},
   "source": [
    "**Exercises**\n",
    "\n",
    "Can you create four plots for each of the nucleus types? To do this, you will need to adapt the code shown above and create a filter that only includes the desired class.\n",
    "\n",
    "Create a function into which you can pass some parameters such as distance and nucleus type.\n"
   ]
  },
  {
   "cell_type": "code",
   "execution_count": null,
   "metadata": {},
   "outputs": [],
   "source": [
    "def render_graph(nucleus_type=1, distance_threshold=20):\n",
    "    pass\n",
    "\n",
    "    # TODO use the code above to create a general function\n",
    "    # That will allow you to change the distance threshold\n",
    "    # and the nucleus type\n",
    "    \n",
    "render_graph()"
   ]
  },
  {
   "cell_type": "markdown",
   "metadata": {},
   "source": [
    "([Solution](solutions/render_graph.py))"
   ]
  },
  {
   "cell_type": "markdown",
   "metadata": {},
   "source": [
    "How do the different nucleus types differ in terms of their metrics?\n",
    "\n",
    "Create another function that plots a chart of metrics such as mean core_number for each nucleus type"
   ]
  },
  {
   "cell_type": "code",
   "execution_count": null,
   "metadata": {},
   "outputs": [],
   "source": [
    "def plot_core_numbers(distance_threshold=20, vertex_counts=3):\n",
    "    pass\n",
    "\n",
    "    # TODO use the code above to create a general function\n",
    "    # That will allow you to change the distance threshold\n",
    "    # and the nucleus type\n",
    "    \n",
    "plot_core_numbers()"
   ]
  },
  {
   "cell_type": "markdown",
   "metadata": {},
   "source": [
    "([Solution](solutions/plot_metrics.py))"
   ]
  },
  {
   "cell_type": "markdown",
   "metadata": {},
   "source": [
    "We hope you enjoyed this course and discovered a few new techniques to apply to your own imaging challenges!"
   ]
  }
 ],
 "metadata": {
  "kernelspec": {
   "display_name": "Python 3 (ipykernel)",
   "language": "python",
   "name": "python3"
  },
  "language_info": {
   "codemirror_mode": {
    "name": "ipython",
    "version": 3
   },
   "file_extension": ".py",
   "mimetype": "text/x-python",
   "name": "python",
   "nbconvert_exporter": "python",
   "pygments_lexer": "ipython3",
   "version": "3.9.15"
  }
 },
 "nbformat": 4,
 "nbformat_minor": 4
}
